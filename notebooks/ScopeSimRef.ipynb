{
 "cells": [
  {
   "cell_type": "markdown",
   "id": "6df62d24-0229-43b6-9cdb-1d4973f2b995",
   "metadata": {},
   "source": [
    "# ScopeSim.Commands"
   ]
  },
  {
   "cell_type": "code",
   "execution_count": 36,
   "id": "72bf057f-ee90-4da0-951a-0799dbdb4967",
   "metadata": {},
   "outputs": [],
   "source": [
    "import scopesim.commands as sc\n",
    "import scopesim.detector as sd"
   ]
  },
  {
   "cell_type": "code",
   "execution_count": 15,
   "id": "5ccd3e65-5ebc-490c-9395-ddf850850dfa",
   "metadata": {},
   "outputs": [],
   "source": [
    "cmd = sc.UserCommands(use_instrument=\"MICADO\")"
   ]
  },
  {
   "cell_type": "code",
   "execution_count": 18,
   "id": "9a93c130-b144-48b0-a703-c42766ee8e76",
   "metadata": {
    "collapsed": true,
    "jupyter": {
     "outputs_hidden": true
    },
    "tags": []
   },
   "outputs": [
    {
     "data": {
      "text/plain": [
       "{'spectral': {'wave_min': 0.7,\n",
       "  'wave_mid': 1.6,\n",
       "  'wave_max': 2.5,\n",
       "  'wave_unit': 'um',\n",
       "  'spectral_bin_width': 0.0001,\n",
       "  'spectral_resolution': 5000,\n",
       "  'minimum_throughput': 1e-06,\n",
       "  'minimum_pixel_flux': 1},\n",
       " 'sub_pixel': {'flag': False, 'fraction': 1},\n",
       " 'random': {'seed': 9001},\n",
       " 'computing': {'chunk_size': 2048,\n",
       "  'max_segment_size': 16777217,\n",
       "  'oversampling': 1,\n",
       "  'spline_order': 1,\n",
       "  'flux_accuracy': 0.001,\n",
       "  'preload_field_of_views': True,\n",
       "  'bg_cell_width': 60},\n",
       " 'file': {'local_packages_path': './inst_pkgs/',\n",
       "  'server_base_url': 'https://scopesim.univie.ac.at/InstPkgSvr/',\n",
       "  'use_cached_downloads': False,\n",
       "  'search_path': ['./inst_pkgs/', './'],\n",
       "  'error_on_missing_file': False},\n",
       " 'reports': {'ip_tracking': False,\n",
       "  'verbose': False,\n",
       "  'rst_path': './reports/rst/',\n",
       "  'latex_path': './reports/latex/',\n",
       "  'image_path': './reports/images/',\n",
       "  'image_format': 'png',\n",
       "  'preamble_file': '../docs/micado.rst'},\n",
       " 'logging': {'log_to_file': False,\n",
       "  'log_to_console': True,\n",
       "  'file_path': '.scopesim.log',\n",
       "  'file_open_mode': 'w',\n",
       "  'file_level': 'DEBUG',\n",
       "  'console_level': 'WARNING'},\n",
       " 'tests': {'run_integration_tests': True, 'run_skycalc_ter_tests': True}}"
      ]
     },
     "execution_count": 18,
     "metadata": {},
     "output_type": "execute_result"
    }
   ],
   "source": [
    "cmd[\"SIM\"]"
   ]
  },
  {
   "cell_type": "code",
   "execution_count": 21,
   "id": "3065f452-fdd2-464a-9f12-64897e0bbcf3",
   "metadata": {},
   "outputs": [
    {
     "data": {
      "text/plain": [
       "[1, 2, 3, 4, 5]"
      ]
     },
     "execution_count": 21,
     "metadata": {},
     "output_type": "execute_result"
    }
   ],
   "source": [
    "a = [ i for i in range(1,6) ] # => [1,2,3,4,5]\n",
    "a"
   ]
  },
  {
   "cell_type": "code",
   "execution_count": 23,
   "id": "992b1132-5b4b-4bb0-b9f2-dace23f7c601",
   "metadata": {},
   "outputs": [],
   "source": [
    "d = {\n",
    "    'benis' : 69,\n",
    "    'cleavage' : 420,\n",
    "    'george bush' : \"did 9/11\"\n",
    "}"
   ]
  },
  {
   "cell_type": "code",
   "execution_count": 34,
   "id": "809be883-b737-49e2-9540-fef9fb32dd8d",
   "metadata": {},
   "outputs": [
    {
     "name": "stdout",
     "output_type": "stream",
     "text": [
      "benis 69\n",
      "cleavage 420\n",
      "george bush did 9/11\n"
     ]
    }
   ],
   "source": [
    "for i in d:\n",
    "    print(i,d[i])"
   ]
  },
  {
   "cell_type": "code",
   "execution_count": 61,
   "id": "b26f061d-d254-49bf-b64d-51cd129f5377",
   "metadata": {},
   "outputs": [],
   "source": [
    "det = sd.detector"
   ]
  },
  {
   "cell_type": "code",
   "execution_count": 74,
   "id": "edebc608-f995-459e-86b5-718c6772554d",
   "metadata": {},
   "outputs": [
    {
     "data": {
      "text/plain": [
       "<module 'scopesim.detector.detector_array' from 'C:\\\\Users\\\\krist\\\\Anaconda3\\\\lib\\\\site-packages\\\\scopesim\\\\detector\\\\detector_array.py'>"
      ]
     },
     "execution_count": 74,
     "metadata": {},
     "output_type": "execute_result"
    }
   ],
   "source": [
    "sd.detector_array"
   ]
  },
  {
   "cell_type": "code",
   "execution_count": 76,
   "id": "bfc0981b-1527-4214-95ae-7ce176a6764e",
   "metadata": {},
   "outputs": [],
   "source": [
    "import scopesim.utils as su\n"
   ]
  },
  {
   "cell_type": "code",
   "execution_count": 80,
   "id": "2e94adc9-57e8-4a04-a5b5-e0e1e3afff62",
   "metadata": {},
   "outputs": [
    {
     "data": {
      "text/plain": [
       "array([ 1,  3,  9, 27, 81])"
      ]
     },
     "execution_count": 80,
     "metadata": {},
     "output_type": "execute_result"
    }
   ],
   "source": [
    "su.power_vector(3,4)"
   ]
  },
  {
   "cell_type": "code",
   "execution_count": 86,
   "id": "e3ca4849-9fc4-4570-a282-ca6b34acd717",
   "metadata": {},
   "outputs": [
    {
     "data": {
      "text/latex": [
       "$69 \\; \\mathrm{\\frac{W}{m^{2}}}$"
      ],
      "text/plain": [
       "<Quantity 69. W / m2>"
      ]
     },
     "execution_count": 86,
     "metadata": {},
     "output_type": "execute_result"
    }
   ],
   "source": [
    "#cool af\n",
    "su.quantify(69,\"W/m2\")"
   ]
  },
  {
   "cell_type": "code",
   "execution_count": 89,
   "id": "df31fc64-49d5-47cd-8375-4fa2115cce88",
   "metadata": {},
   "outputs": [
    {
     "data": {
      "text/plain": [
       "1.0000009393405844"
      ]
     },
     "execution_count": 89,
     "metadata": {},
     "output_type": "execute_result"
    }
   ],
   "source": [
    "su.transverse_distance(206265, 1)"
   ]
  },
  {
   "cell_type": "code",
   "execution_count": 94,
   "id": "e06372f6-003e-442e-8cfa-a798d17b603f",
   "metadata": {},
   "outputs": [
    {
     "data": {
      "text/plain": [
       "0.958851077208406"
      ]
     },
     "execution_count": 94,
     "metadata": {},
     "output_type": "execute_result"
    }
   ],
   "source": [
    "import numpy as np\n",
    "2*np.sin(.5)"
   ]
  },
  {
   "cell_type": "code",
   "execution_count": 93,
   "id": "cb899771-300f-4eed-8c81-d99d6d9670d5",
   "metadata": {},
   "outputs": [
    {
     "data": {
      "text/plain": [
       "0.9588510772084059"
      ]
     },
     "execution_count": 93,
     "metadata": {},
     "output_type": "execute_result"
    }
   ],
   "source": [
    "np.sqrt(2-2*np.cos(1))"
   ]
  },
  {
   "cell_type": "code",
   "execution_count": null,
   "id": "047768a2-9003-46d9-a64f-e0a672e156e1",
   "metadata": {},
   "outputs": [],
   "source": []
  }
 ],
 "metadata": {
  "kernelspec": {
   "display_name": "Python 3 (ipykernel)",
   "language": "python",
   "name": "python3"
  },
  "language_info": {
   "codemirror_mode": {
    "name": "ipython",
    "version": 3
   },
   "file_extension": ".py",
   "mimetype": "text/x-python",
   "name": "python",
   "nbconvert_exporter": "python",
   "pygments_lexer": "ipython3",
   "version": "3.7.4"
  }
 },
 "nbformat": 4,
 "nbformat_minor": 5
}
